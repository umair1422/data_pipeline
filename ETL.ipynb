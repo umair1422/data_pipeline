{
 "cells": [
  {
   "cell_type": "code",
   "execution_count": null,
   "id": "f2cd68ef",
   "metadata": {},
   "outputs": [],
   "source": []
  },
  {
   "cell_type": "code",
   "execution_count": 8,
   "id": "a7019126",
   "metadata": {},
   "outputs": [],
   "source": []
  },
  {
   "cell_type": "code",
   "execution_count": 17,
   "id": "4201d7dd",
   "metadata": {},
   "outputs": [
    {
     "data": {
      "text/plain": [
       "1"
      ]
     },
     "execution_count": 17,
     "metadata": {},
     "output_type": "execute_result"
    }
   ],
   "source": [
    "import pandas as pd\n",
    "from sqlalchemy import create_engine\n",
    "\n",
    "# Define the database connection URL\n",
    "server = 'HAIER-PC\\SQLEXPRESS'\n",
    "driver = 'SQL Server'\n",
    "db = 'cleaning'\n",
    "table_name = 'MaidBid'\n",
    "\n",
    "# Create the SQLAlchemy engine\n",
    "engine = create_engine(f'mssql+pyodbc://{server}/{db}?driver={driver}')\n",
    "\n",
    "\n",
    "# Defining the data for the new record\n",
    "data = {\n",
    "    'Ctype': 'Johny',\n",
    "    'Building': 'Highwayy 21',\n",
    "    'name': 'u',\n",
    "    'type': 'umair',\n",
    "    'beds': 7,\n",
    "    'baths': 6,\n",
    "    'frequency': 'kk'\n",
    "}\n",
    "\n",
    "# Create a DataFrame with the new record data\n",
    "new_record = pd.DataFrame(data, index=[0])\n",
    "\n",
    "# Insert the new record into the \"maidBid\" table using SQLAlchemy\n",
    "new_record.to_sql('MaidBid', con=engine, if_exists='append', index=False)\n"
   ]
  },
  {
   "cell_type": "code",
   "execution_count": 19,
   "id": "bf06e7f9",
   "metadata": {},
   "outputs": [
    {
     "name": "stdout",
     "output_type": "stream",
     "text": [
      "   Ctype     Building      name    type  beds  baths frequency\n",
      "0  Johny  Highwayy 21         u   umair     7      6        kk\n",
      "1   John   Highway 21     umair   umair     7      6        kk\n",
      "2  Johny  Highwayy 21    umairr   umair     7      6        kk\n",
      "3  Johny  Highwayy 21   umairrj   umair     7      6        kk\n",
      "4  Johny  Highwayy 21  umairrjj   umair     7      6        kk\n",
      "5  Johny  Highwayy 21    umairy  umairy     7      6        kk\n"
     ]
    }
   ],
   "source": [
    "query = 'SELECT * FROM MaidBid'\n",
    "df = pd.read_sql_query(query, engine)\n",
    "print(df)"
   ]
  }
 ],
 "metadata": {
  "kernelspec": {
   "display_name": "Python 3 (ipykernel)",
   "language": "python",
   "name": "python3"
  },
  "language_info": {
   "codemirror_mode": {
    "name": "ipython",
    "version": 3
   },
   "file_extension": ".py",
   "mimetype": "text/x-python",
   "name": "python",
   "nbconvert_exporter": "python",
   "pygments_lexer": "ipython3",
   "version": "3.9.13"
  }
 },
 "nbformat": 4,
 "nbformat_minor": 5
}
